{
 "cells": [
  {
   "cell_type": "markdown",
   "metadata": {},
   "source": [
    "# Part2"
   ]
  },
  {
   "cell_type": "code",
   "execution_count": null,
   "metadata": {},
   "outputs": [],
   "source": [
    "## "
   ]
  },
  {
   "cell_type": "code",
   "execution_count": 1,
   "metadata": {},
   "outputs": [],
   "source": [
    "import numpy as np\n",
    "import pandas as pd\n",
    "from sklearn.metrics import classification_report\n",
    "from sklearn.preprocessing import LabelEncoder\n",
    "from sklearn.model_selection import train_test_split\n",
    "from npc_gzip.compressors.base import BaseCompressor\n",
    "from npc_gzip.compressors.gzip_compressor import GZipCompressor\n",
    "from npc_gzip.knn_classifier import KnnClassifier\n",
    "\n",
    "# Define distance metrics\n",
    "distance_metrics = ['ncd', 'clm', 'cdm', 'mse']\n"
   ]
  },
  {
   "cell_type": "code",
   "execution_count": 2,
   "metadata": {},
   "outputs": [],
   "source": [
    "# Function to efficiently load and pre-process data with sample size reduction\n",
    "def pass_data():\n",
    "    df = pd.read_csv(\"train_40k.csv\", encoding=\"latin-1\")\n",
    "\n",
    "    # Reduce sample size if needed\n",
    "    sample_size=1000\n",
    "    \n",
    "    if len(df) > sample_size:\n",
    "        df = df.sample(n=sample_size, random_state=42)\n",
    "\n",
    "    df[\"text\"] = df[\"Text\"]\n",
    "    df[\"label\"] = df[\"Cat1\"]\n",
    "    return df\n",
    "\n",
    "def get_data(test_size=0.2, for_compression=False):\n",
    "    df = pass_data()\n",
    "    X_train, X_test, y_train, y_test = train_test_split(\n",
    "        df[\"text\"], df[\"label\"], test_size=test_size, random_state=42\n",
    "    )\n",
    "    label_encoder = LabelEncoder()\n",
    "    train_text = X_train.to_numpy()\n",
    "    train_labels = label_encoder.fit_transform(y_train.to_numpy())\n",
    "    test_text = X_test.to_numpy()\n",
    "    test_labels = label_encoder.fit_transform(y_test.to_numpy())\n",
    "    return (train_text, train_labels), (test_text, test_labels)\n",
    "\n"
   ]
  },
  {
   "cell_type": "code",
   "execution_count": 3,
   "metadata": {},
   "outputs": [],
   "source": [
    "def fit_predict(\n",
    "    train_text, train_labels, test_text, test_labels, distance_metric, k\n",
    "):\n",
    "    compressor = GZipCompressor()\n",
    "    model = KnnClassifier(\n",
    "        compressor=compressor,\n",
    "        training_inputs=train_text,\n",
    "        training_labels=train_labels,\n",
    "        distance_metric=distance_metric,\n",
    "    )\n",
    "    predictions, labels, _ = model.predict(test_text, k)\n",
    "    accuracy = classification_report(test_labels, labels.reshape(-1), output_dict=True, zero_division=0)['accuracy']\n",
    "    return accuracy\n"
   ]
  },
  {
   "cell_type": "code",
   "execution_count": null,
   "metadata": {},
   "outputs": [],
   "source": [
    "# Define k values to evaluate\n",
    "k_values = np.arange(1, 21)\n",
    "\n",
    "# Initialize dictionary to store results\n",
    "results = {metric: {} for metric in distance_metrics}\n",
    "\n",
    "# Load data\n",
    "(train_text, train_labels), (test_text, test_labels) = get_data()"
   ]
  },
  {
   "cell_type": "code",
   "execution_count": 28,
   "metadata": {},
   "outputs": [
    {
     "name": "stdout",
     "output_type": "stream",
     "text": [
      "The average number of characters in training text is:  463.65875\n",
      "The average number of words in training text is:  87.43875\n",
      "The number of unique labels is:  6\n"
     ]
    }
   ],
   "source": [
    "print(\"The average number of characters in training text is: \", np.mean([len(text) for text in train_text]))\n",
    "print(\"The average number of words in training text is: \", np.mean([len(text.split()) for text in train_text]))\n",
    "print(\"The number of unique labels is: \", len(np.unique(train_labels)))"
   ]
  },
  {
   "cell_type": "code",
   "execution_count": 4,
   "metadata": {},
   "outputs": [
    {
     "name": "stderr",
     "output_type": "stream",
     "text": [
      "Compressing input...: 100%|██████████| 200/200 [00:04<00:00, 40.89it/s]\n",
      "Compressing input...: 100%|██████████| 200/200 [00:04<00:00, 41.07it/s]\n",
      "Compressing input...: 100%|██████████| 200/200 [00:04<00:00, 40.63it/s]\n",
      "Compressing input...: 100%|██████████| 200/200 [00:04<00:00, 41.33it/s]\n",
      "Compressing input...: 100%|██████████| 200/200 [00:04<00:00, 40.77it/s]\n",
      "Compressing input...: 100%|██████████| 200/200 [00:04<00:00, 41.10it/s]\n",
      "Compressing input...: 100%|██████████| 200/200 [00:05<00:00, 39.71it/s]\n",
      "Compressing input...: 100%|██████████| 200/200 [00:04<00:00, 41.36it/s]\n",
      "Compressing input...: 100%|██████████| 200/200 [00:04<00:00, 41.52it/s]\n",
      "Compressing input...: 100%|██████████| 200/200 [00:04<00:00, 40.89it/s]\n",
      "Compressing input...: 100%|██████████| 200/200 [00:04<00:00, 40.93it/s]\n",
      "Compressing input...: 100%|██████████| 200/200 [00:04<00:00, 40.78it/s]\n",
      "Compressing input...: 100%|██████████| 200/200 [00:04<00:00, 40.86it/s]\n",
      "Compressing input...: 100%|██████████| 200/200 [00:04<00:00, 41.06it/s]\n",
      "Compressing input...: 100%|██████████| 200/200 [00:05<00:00, 39.41it/s]\n",
      "Compressing input...: 100%|██████████| 200/200 [00:04<00:00, 41.03it/s]\n",
      "Compressing input...: 100%|██████████| 200/200 [00:05<00:00, 39.89it/s]\n",
      "c:\\Users\\kio\\Anaconda3\\Lib\\site-packages\\sklearn\\metrics\\_classification.py:1471: UndefinedMetricWarning: Precision and F-score are ill-defined and being set to 0.0 in labels with no predicted samples. Use `zero_division` parameter to control this behavior.\n",
      "  _warn_prf(average, modifier, msg_start, len(result))\n",
      "c:\\Users\\kio\\Anaconda3\\Lib\\site-packages\\sklearn\\metrics\\_classification.py:1471: UndefinedMetricWarning: Precision and F-score are ill-defined and being set to 0.0 in labels with no predicted samples. Use `zero_division` parameter to control this behavior.\n",
      "  _warn_prf(average, modifier, msg_start, len(result))\n",
      "c:\\Users\\kio\\Anaconda3\\Lib\\site-packages\\sklearn\\metrics\\_classification.py:1471: UndefinedMetricWarning: Precision and F-score are ill-defined and being set to 0.0 in labels with no predicted samples. Use `zero_division` parameter to control this behavior.\n",
      "  _warn_prf(average, modifier, msg_start, len(result))\n",
      "Compressing input...: 100%|██████████| 200/200 [00:04<00:00, 41.14it/s]\n",
      "Compressing input...: 100%|██████████| 200/200 [00:04<00:00, 41.15it/s]\n",
      "Compressing input...: 100%|██████████| 200/200 [00:04<00:00, 41.27it/s]\n",
      "Compressing input...: 100%|██████████| 200/200 [00:04<00:00, 41.14it/s]\n",
      "Compressing input...: 100%|██████████| 200/200 [00:04<00:00, 41.18it/s]\n",
      "Compressing input...: 100%|██████████| 200/200 [00:04<00:00, 41.05it/s]\n",
      "Compressing input...: 100%|██████████| 200/200 [00:04<00:00, 40.84it/s]\n",
      "Compressing input...: 100%|██████████| 200/200 [00:04<00:00, 41.05it/s]\n",
      "Compressing input...: 100%|██████████| 200/200 [00:04<00:00, 40.89it/s]\n",
      "Compressing input...: 100%|██████████| 200/200 [00:04<00:00, 41.08it/s]\n",
      "Compressing input...: 100%|██████████| 200/200 [00:04<00:00, 41.31it/s]\n",
      "Compressing input...: 100%|██████████| 200/200 [00:04<00:00, 41.28it/s]\n",
      "Compressing input...: 100%|██████████| 200/200 [00:04<00:00, 40.83it/s]\n",
      "Compressing input...: 100%|██████████| 200/200 [00:04<00:00, 41.20it/s]\n",
      "Compressing input...: 100%|██████████| 200/200 [00:04<00:00, 40.88it/s]\n",
      "Compressing input...: 100%|██████████| 200/200 [00:04<00:00, 40.96it/s]\n",
      "Compressing input...: 100%|██████████| 200/200 [00:04<00:00, 41.30it/s]\n",
      "Compressing input...: 100%|██████████| 200/200 [00:04<00:00, 41.10it/s]\n",
      "Compressing input...: 100%|██████████| 200/200 [00:04<00:00, 41.19it/s]\n",
      "Compressing input...: 100%|██████████| 200/200 [00:04<00:00, 40.71it/s]\n",
      "c:\\Users\\kio\\Anaconda3\\Lib\\site-packages\\sklearn\\metrics\\_classification.py:1471: UndefinedMetricWarning: Precision and F-score are ill-defined and being set to 0.0 in labels with no predicted samples. Use `zero_division` parameter to control this behavior.\n",
      "  _warn_prf(average, modifier, msg_start, len(result))\n",
      "c:\\Users\\kio\\Anaconda3\\Lib\\site-packages\\sklearn\\metrics\\_classification.py:1471: UndefinedMetricWarning: Precision and F-score are ill-defined and being set to 0.0 in labels with no predicted samples. Use `zero_division` parameter to control this behavior.\n",
      "  _warn_prf(average, modifier, msg_start, len(result))\n",
      "c:\\Users\\kio\\Anaconda3\\Lib\\site-packages\\sklearn\\metrics\\_classification.py:1471: UndefinedMetricWarning: Precision and F-score are ill-defined and being set to 0.0 in labels with no predicted samples. Use `zero_division` parameter to control this behavior.\n",
      "  _warn_prf(average, modifier, msg_start, len(result))\n",
      "Compressing input...: 100%|██████████| 200/200 [00:04<00:00, 40.57it/s]\n",
      "c:\\Users\\kio\\Anaconda3\\Lib\\site-packages\\sklearn\\metrics\\_classification.py:1471: UndefinedMetricWarning: Precision and F-score are ill-defined and being set to 0.0 in labels with no predicted samples. Use `zero_division` parameter to control this behavior.\n",
      "  _warn_prf(average, modifier, msg_start, len(result))\n",
      "c:\\Users\\kio\\Anaconda3\\Lib\\site-packages\\sklearn\\metrics\\_classification.py:1471: UndefinedMetricWarning: Precision and F-score are ill-defined and being set to 0.0 in labels with no predicted samples. Use `zero_division` parameter to control this behavior.\n",
      "  _warn_prf(average, modifier, msg_start, len(result))\n",
      "c:\\Users\\kio\\Anaconda3\\Lib\\site-packages\\sklearn\\metrics\\_classification.py:1471: UndefinedMetricWarning: Precision and F-score are ill-defined and being set to 0.0 in labels with no predicted samples. Use `zero_division` parameter to control this behavior.\n",
      "  _warn_prf(average, modifier, msg_start, len(result))\n",
      "Compressing input...: 100%|██████████| 200/200 [00:04<00:00, 41.28it/s]\n",
      "c:\\Users\\kio\\Anaconda3\\Lib\\site-packages\\sklearn\\metrics\\_classification.py:1471: UndefinedMetricWarning: Precision and F-score are ill-defined and being set to 0.0 in labels with no predicted samples. Use `zero_division` parameter to control this behavior.\n",
      "  _warn_prf(average, modifier, msg_start, len(result))\n",
      "c:\\Users\\kio\\Anaconda3\\Lib\\site-packages\\sklearn\\metrics\\_classification.py:1471: UndefinedMetricWarning: Precision and F-score are ill-defined and being set to 0.0 in labels with no predicted samples. Use `zero_division` parameter to control this behavior.\n",
      "  _warn_prf(average, modifier, msg_start, len(result))\n",
      "c:\\Users\\kio\\Anaconda3\\Lib\\site-packages\\sklearn\\metrics\\_classification.py:1471: UndefinedMetricWarning: Precision and F-score are ill-defined and being set to 0.0 in labels with no predicted samples. Use `zero_division` parameter to control this behavior.\n",
      "  _warn_prf(average, modifier, msg_start, len(result))\n",
      "Compressing input...: 100%|██████████| 200/200 [00:04<00:00, 41.21it/s]\n",
      "Compressing input...: 100%|██████████| 200/200 [00:04<00:00, 41.37it/s]\n",
      "Compressing input...: 100%|██████████| 200/200 [00:04<00:00, 41.32it/s]\n",
      "Compressing input...: 100%|██████████| 200/200 [00:04<00:00, 41.39it/s]\n",
      "Compressing input...: 100%|██████████| 200/200 [00:04<00:00, 41.26it/s]\n",
      "Compressing input...: 100%|██████████| 200/200 [00:04<00:00, 41.29it/s]\n",
      "Compressing input...: 100%|██████████| 200/200 [00:04<00:00, 41.30it/s]\n",
      "Compressing input...: 100%|██████████| 200/200 [00:04<00:00, 41.18it/s]\n",
      "Compressing input...: 100%|██████████| 200/200 [00:04<00:00, 40.72it/s]\n",
      "Compressing input...: 100%|██████████| 200/200 [00:04<00:00, 41.04it/s]\n",
      "Compressing input...: 100%|██████████| 200/200 [00:04<00:00, 41.27it/s]\n",
      "Compressing input...: 100%|██████████| 200/200 [00:04<00:00, 41.43it/s]\n",
      "Compressing input...: 100%|██████████| 200/200 [00:04<00:00, 41.19it/s]\n",
      "Compressing input...: 100%|██████████| 200/200 [00:04<00:00, 41.26it/s]\n",
      "Compressing input...: 100%|██████████| 200/200 [00:04<00:00, 41.12it/s]\n",
      "Compressing input...: 100%|██████████| 200/200 [00:04<00:00, 41.34it/s]\n",
      "Compressing input...: 100%|██████████| 200/200 [00:04<00:00, 41.09it/s]\n",
      "Compressing input...: 100%|██████████| 200/200 [00:04<00:00, 41.59it/s]\n",
      "c:\\Users\\kio\\Anaconda3\\Lib\\site-packages\\sklearn\\metrics\\_classification.py:1471: UndefinedMetricWarning: Precision and F-score are ill-defined and being set to 0.0 in labels with no predicted samples. Use `zero_division` parameter to control this behavior.\n",
      "  _warn_prf(average, modifier, msg_start, len(result))\n",
      "c:\\Users\\kio\\Anaconda3\\Lib\\site-packages\\sklearn\\metrics\\_classification.py:1471: UndefinedMetricWarning: Precision and F-score are ill-defined and being set to 0.0 in labels with no predicted samples. Use `zero_division` parameter to control this behavior.\n",
      "  _warn_prf(average, modifier, msg_start, len(result))\n",
      "c:\\Users\\kio\\Anaconda3\\Lib\\site-packages\\sklearn\\metrics\\_classification.py:1471: UndefinedMetricWarning: Precision and F-score are ill-defined and being set to 0.0 in labels with no predicted samples. Use `zero_division` parameter to control this behavior.\n",
      "  _warn_prf(average, modifier, msg_start, len(result))\n",
      "Compressing input...: 100%|██████████| 200/200 [00:04<00:00, 41.19it/s]\n",
      "c:\\Users\\kio\\Anaconda3\\Lib\\site-packages\\sklearn\\metrics\\_classification.py:1471: UndefinedMetricWarning: Precision and F-score are ill-defined and being set to 0.0 in labels with no predicted samples. Use `zero_division` parameter to control this behavior.\n",
      "  _warn_prf(average, modifier, msg_start, len(result))\n",
      "c:\\Users\\kio\\Anaconda3\\Lib\\site-packages\\sklearn\\metrics\\_classification.py:1471: UndefinedMetricWarning: Precision and F-score are ill-defined and being set to 0.0 in labels with no predicted samples. Use `zero_division` parameter to control this behavior.\n",
      "  _warn_prf(average, modifier, msg_start, len(result))\n",
      "c:\\Users\\kio\\Anaconda3\\Lib\\site-packages\\sklearn\\metrics\\_classification.py:1471: UndefinedMetricWarning: Precision and F-score are ill-defined and being set to 0.0 in labels with no predicted samples. Use `zero_division` parameter to control this behavior.\n",
      "  _warn_prf(average, modifier, msg_start, len(result))\n",
      "Compressing input...: 100%|██████████| 200/200 [00:04<00:00, 41.72it/s]\n",
      "Compressing input...: 100%|██████████| 200/200 [00:04<00:00, 41.50it/s]\n",
      "Compressing input...: 100%|██████████| 200/200 [00:04<00:00, 41.17it/s]\n",
      "Compressing input...: 100%|██████████| 200/200 [00:04<00:00, 40.62it/s]\n",
      "Compressing input...: 100%|██████████| 200/200 [00:04<00:00, 41.35it/s]\n",
      "Compressing input...: 100%|██████████| 200/200 [00:04<00:00, 41.33it/s]\n",
      "Compressing input...: 100%|██████████| 200/200 [00:04<00:00, 41.65it/s]\n",
      "Compressing input...: 100%|██████████| 200/200 [00:04<00:00, 41.33it/s]\n",
      "Compressing input...: 100%|██████████| 200/200 [00:04<00:00, 41.64it/s]\n",
      "Compressing input...: 100%|██████████| 200/200 [00:04<00:00, 41.56it/s]\n",
      "Compressing input...: 100%|██████████| 200/200 [00:04<00:00, 41.35it/s]\n",
      "Compressing input...: 100%|██████████| 200/200 [00:04<00:00, 41.36it/s]\n",
      "Compressing input...: 100%|██████████| 200/200 [00:04<00:00, 41.51it/s]\n",
      "Compressing input...: 100%|██████████| 200/200 [00:04<00:00, 41.31it/s]\n",
      "Compressing input...: 100%|██████████| 200/200 [00:04<00:00, 41.50it/s]\n",
      "Compressing input...: 100%|██████████| 200/200 [00:04<00:00, 41.59it/s]\n",
      "Compressing input...: 100%|██████████| 200/200 [00:04<00:00, 41.82it/s]\n",
      "Compressing input...: 100%|██████████| 200/200 [00:04<00:00, 41.23it/s]\n",
      "Compressing input...: 100%|██████████| 200/200 [00:04<00:00, 41.49it/s]\n",
      "Compressing input...: 100%|██████████| 200/200 [00:04<00:00, 41.33it/s]\n",
      "Compressing input...: 100%|██████████| 200/200 [00:04<00:00, 41.03it/s]\n",
      "Compressing input...: 100%|██████████| 200/200 [00:04<00:00, 41.38it/s]\n"
     ]
    }
   ],
   "source": [
    "# Iterate through distance metrics and k values\n",
    "for metric in distance_metrics:\n",
    "    for k in k_values:\n",
    "        results[metric][k] = fit_predict(train_text, train_labels, test_text, test_labels, metric, k)\n",
    "\n"
   ]
  },
  {
   "cell_type": "code",
   "execution_count": 6,
   "metadata": {},
   "outputs": [
    {
     "data": {
      "image/png": "[encoded data removed]",
      "text/plain": [
       "<Figure size 640x480 with 1 Axes>"
      ]
     },
     "metadata": {},
     "output_type": "display_data"
    }
   ],
   "source": [
    "# Plot accuracy vs k for each method\n",
    "import seaborn as sns\n",
    "import matplotlib.pyplot as plt\n",
    "import matplotlib.ticker as ticker\n",
    "\n",
    "for metric, data in results.items():\n",
    "    sns.lineplot(x = list(data.keys()), y = list(data.values()), label=metric)\n",
    "\n",
    "plt.gca().xaxis.set_major_locator(ticker.MultipleLocator(1))\n",
    "plt.xlabel(\"Number of Neighbors (k)\")\n",
    "plt.ylabel(\"Accuracy\")\n",
    "plt.title(\"Comparison of Gzip Similarity with Other Methods\")\n",
    "plt.legend()\n",
    "plt.show()"
   ]
  },
  {
   "cell_type": "code",
   "execution_count": 44,
   "metadata": {},
   "outputs": [
    {
     "name": "stdout",
     "output_type": "stream",
     "text": [
      "The maximum accuracy for Gzip similarity is:  0.44\n"
     ]
    }
   ],
   "source": [
    "max_accuracy_gzip = max(results['ncd'].values())\n",
    "print(\"The maximum accuracy for Gzip similarity is: \", max_accuracy_gzip)"
   ]
  },
  {
   "cell_type": "code",
   "execution_count": 7,
   "metadata": {},
   "outputs": [],
   "source": [
    "from sklearn.neighbors import KNeighborsClassifier\n",
    "from sklearn.feature_extraction.text import TfidfVectorizer\n",
    "\n",
    "vectorizer = TfidfVectorizer()\n",
    "X_train = vectorizer.fit_transform(train_text)\n",
    "X_test = vectorizer.transform(test_text)\n",
    "\n",
    "# Convert labels to integers\n",
    "label_encoder = LabelEncoder()\n",
    "train_labels_encoded = label_encoder.fit_transform(train_labels)\n",
    "test_labels_encoded = label_encoder.transform(test_labels)\n",
    "\n",
    "standard_knn_results = {}\n",
    "\n",
    "for k in k_values:\n",
    "    knn_model = KNeighborsClassifier(n_neighbors=k)\n",
    "    knn_model.fit(X_train, train_labels_encoded)\n",
    "    predictions = knn_model.predict(X_test)\n",
    "    accuracy = classification_report(test_labels_encoded, predictions, output_dict=True, zero_division=0)['accuracy']\n",
    "    standard_knn_results[k] = accuracy"
   ]
  },
  {
   "cell_type": "code",
   "execution_count": 13,
   "metadata": {},
   "outputs": [
    {
     "data": {
      "image/png": "[encoded data removed]",
      "text/plain": [
       "<Figure size 640x480 with 1 Axes>"
      ]
     },
     "metadata": {},
     "output_type": "display_data"
    }
   ],
   "source": [
    "for metric, data in results.items():\n",
    "    sns.lineplot(x = list(data.keys()), y = list(data.values()), label=metric)\n",
    "\n",
    "sns.lineplot(x = list(standard_knn_results.keys()), y = list(standard_knn_results.values()), label=\"Default KNN\")\n",
    "plt.gca().xaxis.set_major_locator(ticker.MultipleLocator(1))\n",
    "plt.xlabel(\"Number of Neighbors (k)\")\n",
    "plt.ylabel(\"Accuracy\")\n",
    "plt.title(\"Comparison of Gzip Similarity with Other Methods\")\n",
    "plt.legend()\n",
    "plt.show()"
   ]
  },
  {
   "cell_type": "code",
   "execution_count": 47,
   "metadata": {},
   "outputs": [
    {
     "name": "stdout",
     "output_type": "stream",
     "text": [
      "The maximum accuracy for default KNN is:  0.645\n"
     ]
    }
   ],
   "source": [
    "max_default_knn_accuracy = max(standard_knn_results.values())\n",
    "print(\"The maximum accuracy for default KNN is: \", max_default_knn_accuracy)"
   ]
  },
  {
   "cell_type": "code",
   "execution_count": 45,
   "metadata": {},
   "outputs": [],
   "source": [
    "from sklearn.svm import SVC\n",
    "\n",
    "model = SVC(kernel=\"linear\")  # Choose the desired kernel function\n",
    "model.fit(X_train, train_labels_encoded)\n",
    "\n",
    "# Predict labels for the test data\n",
    "predictions = model.predict(X_test)\n",
    "\n",
    "# Evaluate the model using classification report\n",
    "report = classification_report(test_labels_encoded, predictions, output_dict=True, zero_division=0)\n",
    "\n",
    "svm_accuracy = report['accuracy']\n",
    "print(\"The accuracy of the SVM model is: \", svm_accuracy)\n"
   ]
  },
  {
   "cell_type": "code",
   "execution_count": 29,
   "metadata": {},
   "outputs": [
    {
     "name": "stdout",
     "output_type": "stream",
     "text": [
      "Random seed set as 42\n"
     ]
    }
   ],
   "source": [
    "import torch\n",
    "import random\n",
    "import numpy as np\n",
    "\n",
    "seed = 42\n",
    "np.random.seed(seed)\n",
    "random.seed(seed)\n",
    "torch.manual_seed(seed)\n",
    "torch.cuda.manual_seed(seed)\n",
    "torch.backends.cudnn.deterministic = True\n",
    "torch.backends.cudnn.benchmark = False\n",
    "print(f\"Random seed set as {seed}\")\n",
    "\n",
    "torch.cuda.empty_cache()\n",
    "\n",
    "import torch.nn as nn\n",
    "from torch.utils.data import DataLoader, TensorDataset, random_split\n",
    "from transformers import BertTokenizer, BertForSequenceClassification, AdamW\n",
    "import json\n",
    "import pandas as pd"
   ]
  },
  {
   "cell_type": "code",
   "execution_count": 30,
   "metadata": {},
   "outputs": [
    {
     "name": "stderr",
     "output_type": "stream",
     "text": [
      "Some weights of BertForSequenceClassification were not initialized from the model checkpoint at bert-base-uncased and are newly initialized: ['classifier.weight', 'classifier.bias']\n",
      "You should probably TRAIN this model on a down-stream task to be able to use it for predictions and inference.\n"
     ]
    }
   ],
   "source": [
    "tokenizer = BertTokenizer.from_pretrained(\"bert-base-uncased\")\n",
    "num_labels = len(np.unique(train_labels))\n",
    "model = BertForSequenceClassification.from_pretrained(\"bert-base-uncased\", num_labels=num_labels)"
   ]
  },
  {
   "cell_type": "code",
   "execution_count": 32,
   "metadata": {},
   "outputs": [
    {
     "name": "stderr",
     "output_type": "stream",
     "text": [
      "100%|██████████| 800/800 [00:01<00:00, 631.28it/s]\n"
     ]
    }
   ],
   "source": [
    "tokenized_texts = []\n",
    "from tqdm import tqdm\n",
    "\n",
    "max_seq_length = 512  # Maximum sequence length for BERT\n",
    "\n",
    "for text in tqdm(train_text):\n",
    "    tokenized_texts.append(tokenizer(text, truncation=True, padding='max_length', max_length=max_seq_length, return_tensors='pt'))"
   ]
  },
  {
   "cell_type": "code",
   "execution_count": 37,
   "metadata": {},
   "outputs": [
    {
     "name": "stderr",
     "output_type": "stream",
     "text": [
      "c:\\Users\\kio\\Anaconda3\\Lib\\site-packages\\transformers\\optimization.py:411: FutureWarning: This implementation of AdamW is deprecated and will be removed in a future version. Use the PyTorch implementation torch.optim.AdamW instead, or set `no_deprecation_warning=True` to disable this warning\n",
      "  warnings.warn(\n"
     ]
    }
   ],
   "source": [
    "# Tokenize the texts and convert them to tensors\n",
    "from sklearn.metrics import accuracy_score, f1_score, classification_report\n",
    "\n",
    "input_ids = torch.cat([t['input_ids'] for t in tokenized_texts], dim=0)\n",
    "attention_mask = torch.cat([t['attention_mask'] for t in tokenized_texts], dim=0)\n",
    "labels = torch.tensor(train_labels_encoded)\n",
    "\n",
    "# Create a dataset and data loader\n",
    "dataset = TensorDataset(input_ids, attention_mask, labels)\n",
    "train_size = int(0.8 * len(dataset))\n",
    "val_size = len(dataset) - train_size\n",
    "train_dataset, val_dataset = random_split(dataset, [train_size, val_size])\n",
    "\n",
    "batch_size = 16\n",
    "lr = 1e-5\n",
    "\n",
    "train_loader = DataLoader(train_dataset, batch_size=batch_size)\n",
    "val_loader = DataLoader(val_dataset, batch_size=batch_size)\n",
    "\n",
    "optimizer = AdamW(model.parameters(), lr=lr)\n",
    "criterion = nn.CrossEntropyLoss()"
   ]
  },
  {
   "cell_type": "code",
   "execution_count": 38,
   "metadata": {},
   "outputs": [],
   "source": [
    "def train_epoch(model, dataloader, optimizer, criterion, device):\n",
    "    model.train()\n",
    "    total_loss = 0.0\n",
    "    for batch in tqdm(dataloader):\n",
    "        input_ids, attention_mask, labels = batch\n",
    "        input_ids, attention_mask, labels = input_ids.to(device), attention_mask.to(device), labels.to(device)\n",
    "\n",
    "        optimizer.zero_grad()\n",
    "        outputs = model(input_ids, attention_mask=attention_mask, labels=labels)\n",
    "        loss = outputs.loss\n",
    "        total_loss += loss.item()\n",
    "        loss.backward()\n",
    "        optimizer.step()\n",
    "\n",
    "    return total_loss / len(dataloader)\n",
    "\n",
    "def evaluate(model, dataloader, criterion, device):\n",
    "    model.eval()\n",
    "    total_loss = 0.0\n",
    "    correct_predictions = 0\n",
    "    total_samples = 0\n",
    "\n",
    "    with torch.no_grad():\n",
    "        for batch in tqdm(dataloader):\n",
    "            input_ids, attention_mask, labels = batch\n",
    "            input_ids, attention_mask, labels = input_ids.to(device), attention_mask.to(device), labels.to(device)\n",
    "\n",
    "            outputs = model(input_ids, attention_mask=attention_mask, labels=labels)\n",
    "            loss = outputs.loss\n",
    "            total_loss += loss.item()\n",
    "\n",
    "            logits = outputs.logits\n",
    "            predictions = torch.argmax(logits, dim=1)\n",
    "            correct_predictions += torch.sum(predictions == labels).item()\n",
    "            print(labels.cpu())\n",
    "            total_samples += labels.size(0)\n",
    "\n",
    "\n",
    "    print(classification_report(predictions.cpu().numpy(), labels.cpu().numpy()))\n",
    "    return total_loss / len(dataloader), correct_predictions / total_samples"
   ]
  },
  {
   "cell_type": "code",
   "execution_count": 39,
   "metadata": {},
   "outputs": [
    {
     "data": {
      "text/plain": [
       "BertForSequenceClassification(\n",
       "  (bert): BertModel(\n",
       "    (embeddings): BertEmbeddings(\n",
       "      (word_embeddings): Embedding(30522, 768, padding_idx=0)\n",
       "      (position_embeddings): Embedding(512, 768)\n",
       "      (token_type_embeddings): Embedding(2, 768)\n",
       "      (LayerNorm): LayerNorm((768,), eps=1e-12, elementwise_affine=True)\n",
       "      (dropout): Dropout(p=0.1, inplace=False)\n",
       "    )\n",
       "    (encoder): BertEncoder(\n",
       "      (layer): ModuleList(\n",
       "        (0-11): 12 x BertLayer(\n",
       "          (attention): BertAttention(\n",
       "            (self): BertSelfAttention(\n",
       "              (query): Linear(in_features=768, out_features=768, bias=True)\n",
       "              (key): Linear(in_features=768, out_features=768, bias=True)\n",
       "              (value): Linear(in_features=768, out_features=768, bias=True)\n",
       "              (dropout): Dropout(p=0.1, inplace=False)\n",
       "            )\n",
       "            (output): BertSelfOutput(\n",
       "              (dense): Linear(in_features=768, out_features=768, bias=True)\n",
       "              (LayerNorm): LayerNorm((768,), eps=1e-12, elementwise_affine=True)\n",
       "              (dropout): Dropout(p=0.1, inplace=False)\n",
       "            )\n",
       "          )\n",
       "          (intermediate): BertIntermediate(\n",
       "            (dense): Linear(in_features=768, out_features=3072, bias=True)\n",
       "            (intermediate_act_fn): GELUActivation()\n",
       "          )\n",
       "          (output): BertOutput(\n",
       "            (dense): Linear(in_features=3072, out_features=768, bias=True)\n",
       "            (LayerNorm): LayerNorm((768,), eps=1e-12, elementwise_affine=True)\n",
       "            (dropout): Dropout(p=0.1, inplace=False)\n",
       "          )\n",
       "        )\n",
       "      )\n",
       "    )\n",
       "    (pooler): BertPooler(\n",
       "      (dense): Linear(in_features=768, out_features=768, bias=True)\n",
       "      (activation): Tanh()\n",
       "    )\n",
       "  )\n",
       "  (dropout): Dropout(p=0.1, inplace=False)\n",
       "  (classifier): Linear(in_features=768, out_features=6, bias=True)\n",
       ")"
      ]
     },
     "execution_count": 39,
     "metadata": {},
     "output_type": "execute_result"
    }
   ],
   "source": [
    "device = torch.device(\"cuda\" if torch.cuda.is_available() else \"cpu\")\n",
    "model.to(device)"
   ]
  },
  {
   "cell_type": "code",
   "execution_count": 40,
   "metadata": {},
   "outputs": [
    {
     "name": "stderr",
     "output_type": "stream",
     "text": [
      "100%|██████████| 40/40 [14:13<00:00, 21.34s/it]\n",
      " 10%|█         | 1/10 [00:06<01:00,  6.73s/it]"
     ]
    },
    {
     "name": "stdout",
     "output_type": "stream",
     "text": [
      "tensor([3, 0, 4, 4, 3, 4, 4, 0, 3, 5, 3, 5, 5, 1, 4, 5])\n"
     ]
    },
    {
     "name": "stderr",
     "output_type": "stream",
     "text": [
      " 20%|██        | 2/10 [00:13<00:52,  6.51s/it]"
     ]
    },
    {
     "name": "stdout",
     "output_type": "stream",
     "text": [
      "tensor([3, 0, 3, 3, 3, 3, 3, 5, 4, 0, 3, 2, 5, 3, 3, 0])\n"
     ]
    },
    {
     "name": "stderr",
     "output_type": "stream",
     "text": [
      " 30%|███       | 3/10 [00:19<00:44,  6.43s/it]"
     ]
    },
    {
     "name": "stdout",
     "output_type": "stream",
     "text": [
      "tensor([1, 4, 0, 3, 5, 2, 3, 3, 2, 5, 0, 4, 1, 5, 5, 4])\n"
     ]
    },
    {
     "name": "stderr",
     "output_type": "stream",
     "text": [
      " 40%|████      | 4/10 [00:25<00:38,  6.42s/it]"
     ]
    },
    {
     "name": "stdout",
     "output_type": "stream",
     "text": [
      "tensor([3, 3, 2, 2, 3, 1, 3, 3, 1, 5, 5, 1, 1, 1, 5, 2])\n"
     ]
    },
    {
     "name": "stderr",
     "output_type": "stream",
     "text": [
      " 50%|█████     | 5/10 [00:32<00:32,  6.43s/it]"
     ]
    },
    {
     "name": "stdout",
     "output_type": "stream",
     "text": [
      "tensor([3, 1, 3, 5, 4, 0, 5, 3, 2, 5, 5, 1, 5, 5, 1, 0])\n"
     ]
    },
    {
     "name": "stderr",
     "output_type": "stream",
     "text": [
      " 60%|██████    | 6/10 [00:38<00:25,  6.40s/it]"
     ]
    },
    {
     "name": "stdout",
     "output_type": "stream",
     "text": [
      "tensor([4, 5, 5, 3, 2, 2, 4, 3, 5, 3, 5, 1, 3, 2, 5, 0])\n"
     ]
    },
    {
     "name": "stderr",
     "output_type": "stream",
     "text": [
      " 70%|███████   | 7/10 [00:44<00:19,  6.37s/it]"
     ]
    },
    {
     "name": "stdout",
     "output_type": "stream",
     "text": [
      "tensor([1, 3, 1, 1, 5, 1, 0, 3, 1, 1, 4, 5, 1, 4, 3, 0])\n"
     ]
    },
    {
     "name": "stderr",
     "output_type": "stream",
     "text": [
      " 80%|████████  | 8/10 [00:51<00:12,  6.38s/it]"
     ]
    },
    {
     "name": "stdout",
     "output_type": "stream",
     "text": [
      "tensor([5, 3, 5, 4, 1, 3, 3, 5, 3, 5, 5, 0, 3, 5, 3, 5])\n"
     ]
    },
    {
     "name": "stderr",
     "output_type": "stream",
     "text": [
      " 90%|█████████ | 9/10 [00:57<00:06,  6.39s/it]"
     ]
    },
    {
     "name": "stdout",
     "output_type": "stream",
     "text": [
      "tensor([0, 5, 4, 5, 1, 3, 5, 3, 1, 3, 4, 3, 3, 2, 3, 3])\n"
     ]
    },
    {
     "name": "stderr",
     "output_type": "stream",
     "text": [
      "100%|██████████| 10/10 [01:04<00:00,  6.40s/it]"
     ]
    },
    {
     "name": "stdout",
     "output_type": "stream",
     "text": [
      "tensor([1, 4, 5, 0, 5, 4, 5, 5, 4, 4, 5, 1, 5, 0, 5, 0])\n",
      "              precision    recall  f1-score   support\n",
      "\n",
      "           0       0.00      0.00      0.00         1\n",
      "           1       0.00      0.00      0.00         0\n",
      "           3       0.00      0.00      0.00         4\n",
      "           4       0.25      0.50      0.33         2\n",
      "           5       0.71      0.56      0.63         9\n",
      "\n",
      "    accuracy                           0.38        16\n",
      "   macro avg       0.19      0.21      0.19        16\n",
      "weighted avg       0.43      0.38      0.39        16\n",
      "\n",
      "Epoch 1/3 - Train Loss: 1.7423 - Val Loss: 1.5881 - Val Accuracy: 48.12%\n"
     ]
    },
    {
     "name": "stderr",
     "output_type": "stream",
     "text": [
      "\n",
      "c:\\Users\\kio\\Anaconda3\\Lib\\site-packages\\sklearn\\metrics\\_classification.py:1471: UndefinedMetricWarning: Precision and F-score are ill-defined and being set to 0.0 in labels with no predicted samples. Use `zero_division` parameter to control this behavior.\n",
      "  _warn_prf(average, modifier, msg_start, len(result))\n",
      "c:\\Users\\kio\\Anaconda3\\Lib\\site-packages\\sklearn\\metrics\\_classification.py:1471: UndefinedMetricWarning: Recall and F-score are ill-defined and being set to 0.0 in labels with no true samples. Use `zero_division` parameter to control this behavior.\n",
      "  _warn_prf(average, modifier, msg_start, len(result))\n",
      "c:\\Users\\kio\\Anaconda3\\Lib\\site-packages\\sklearn\\metrics\\_classification.py:1471: UndefinedMetricWarning: Precision and F-score are ill-defined and being set to 0.0 in labels with no predicted samples. Use `zero_division` parameter to control this behavior.\n",
      "  _warn_prf(average, modifier, msg_start, len(result))\n",
      "c:\\Users\\kio\\Anaconda3\\Lib\\site-packages\\sklearn\\metrics\\_classification.py:1471: UndefinedMetricWarning: Recall and F-score are ill-defined and being set to 0.0 in labels with no true samples. Use `zero_division` parameter to control this behavior.\n",
      "  _warn_prf(average, modifier, msg_start, len(result))\n",
      "c:\\Users\\kio\\Anaconda3\\Lib\\site-packages\\sklearn\\metrics\\_classification.py:1471: UndefinedMetricWarning: Precision and F-score are ill-defined and being set to 0.0 in labels with no predicted samples. Use `zero_division` parameter to control this behavior.\n",
      "  _warn_prf(average, modifier, msg_start, len(result))\n",
      "c:\\Users\\kio\\Anaconda3\\Lib\\site-packages\\sklearn\\metrics\\_classification.py:1471: UndefinedMetricWarning: Recall and F-score are ill-defined and being set to 0.0 in labels with no true samples. Use `zero_division` parameter to control this behavior.\n",
      "  _warn_prf(average, modifier, msg_start, len(result))\n",
      "100%|██████████| 40/40 [14:10<00:00, 21.25s/it]\n",
      " 10%|█         | 1/10 [00:06<01:00,  6.73s/it]"
     ]
    },
    {
     "name": "stdout",
     "output_type": "stream",
     "text": [
      "tensor([3, 0, 4, 4, 3, 4, 4, 0, 3, 5, 3, 5, 5, 1, 4, 5])\n"
     ]
    },
    {
     "name": "stderr",
     "output_type": "stream",
     "text": [
      " 20%|██        | 2/10 [00:13<00:52,  6.51s/it]"
     ]
    },
    {
     "name": "stdout",
     "output_type": "stream",
     "text": [
      "tensor([3, 0, 3, 3, 3, 3, 3, 5, 4, 0, 3, 2, 5, 3, 3, 0])\n"
     ]
    },
    {
     "name": "stderr",
     "output_type": "stream",
     "text": [
      " 30%|███       | 3/10 [00:19<00:45,  6.47s/it]"
     ]
    },
    {
     "name": "stdout",
     "output_type": "stream",
     "text": [
      "tensor([1, 4, 0, 3, 5, 2, 3, 3, 2, 5, 0, 4, 1, 5, 5, 4])\n"
     ]
    },
    {
     "name": "stderr",
     "output_type": "stream",
     "text": [
      " 40%|████      | 4/10 [00:25<00:38,  6.46s/it]"
     ]
    },
    {
     "name": "stdout",
     "output_type": "stream",
     "text": [
      "tensor([3, 3, 2, 2, 3, 1, 3, 3, 1, 5, 5, 1, 1, 1, 5, 2])\n"
     ]
    },
    {
     "name": "stderr",
     "output_type": "stream",
     "text": [
      " 50%|█████     | 5/10 [00:32<00:32,  6.44s/it]"
     ]
    },
    {
     "name": "stdout",
     "output_type": "stream",
     "text": [
      "tensor([3, 1, 3, 5, 4, 0, 5, 3, 2, 5, 5, 1, 5, 5, 1, 0])\n"
     ]
    },
    {
     "name": "stderr",
     "output_type": "stream",
     "text": [
      " 60%|██████    | 6/10 [00:38<00:25,  6.43s/it]"
     ]
    },
    {
     "name": "stdout",
     "output_type": "stream",
     "text": [
      "tensor([4, 5, 5, 3, 2, 2, 4, 3, 5, 3, 5, 1, 3, 2, 5, 0])\n"
     ]
    },
    {
     "name": "stderr",
     "output_type": "stream",
     "text": [
      " 70%|███████   | 7/10 [00:45<00:19,  6.42s/it]"
     ]
    },
    {
     "name": "stdout",
     "output_type": "stream",
     "text": [
      "tensor([1, 3, 1, 1, 5, 1, 0, 3, 1, 1, 4, 5, 1, 4, 3, 0])\n"
     ]
    },
    {
     "name": "stderr",
     "output_type": "stream",
     "text": [
      " 80%|████████  | 8/10 [00:51<00:12,  6.42s/it]"
     ]
    },
    {
     "name": "stdout",
     "output_type": "stream",
     "text": [
      "tensor([5, 3, 5, 4, 1, 3, 3, 5, 3, 5, 5, 0, 3, 5, 3, 5])\n"
     ]
    },
    {
     "name": "stderr",
     "output_type": "stream",
     "text": [
      " 90%|█████████ | 9/10 [00:57<00:06,  6.37s/it]"
     ]
    },
    {
     "name": "stdout",
     "output_type": "stream",
     "text": [
      "tensor([0, 5, 4, 5, 1, 3, 5, 3, 1, 3, 4, 3, 3, 2, 3, 3])\n"
     ]
    },
    {
     "name": "stderr",
     "output_type": "stream",
     "text": [
      "100%|██████████| 10/10 [01:04<00:00,  6.43s/it]"
     ]
    },
    {
     "name": "stdout",
     "output_type": "stream",
     "text": [
      "tensor([1, 4, 5, 0, 5, 4, 5, 5, 4, 4, 5, 1, 5, 0, 5, 0])\n",
      "              precision    recall  f1-score   support\n",
      "\n",
      "           0       0.00      0.00      0.00         0\n",
      "           1       1.00      1.00      1.00         2\n",
      "           3       0.00      0.00      0.00         2\n",
      "           4       0.50      1.00      0.67         2\n",
      "           5       0.86      0.60      0.71        10\n",
      "\n",
      "    accuracy                           0.62        16\n",
      "   macro avg       0.47      0.52      0.47        16\n",
      "weighted avg       0.72      0.62      0.65        16\n",
      "\n",
      "Epoch 2/3 - Train Loss: 1.4515 - Val Loss: 1.2383 - Val Accuracy: 66.88%\n"
     ]
    },
    {
     "name": "stderr",
     "output_type": "stream",
     "text": [
      "\n",
      "c:\\Users\\kio\\Anaconda3\\Lib\\site-packages\\sklearn\\metrics\\_classification.py:1471: UndefinedMetricWarning: Precision and F-score are ill-defined and being set to 0.0 in labels with no predicted samples. Use `zero_division` parameter to control this behavior.\n",
      "  _warn_prf(average, modifier, msg_start, len(result))\n",
      "c:\\Users\\kio\\Anaconda3\\Lib\\site-packages\\sklearn\\metrics\\_classification.py:1471: UndefinedMetricWarning: Recall and F-score are ill-defined and being set to 0.0 in labels with no true samples. Use `zero_division` parameter to control this behavior.\n",
      "  _warn_prf(average, modifier, msg_start, len(result))\n",
      "c:\\Users\\kio\\Anaconda3\\Lib\\site-packages\\sklearn\\metrics\\_classification.py:1471: UndefinedMetricWarning: Precision and F-score are ill-defined and being set to 0.0 in labels with no predicted samples. Use `zero_division` parameter to control this behavior.\n",
      "  _warn_prf(average, modifier, msg_start, len(result))\n",
      "c:\\Users\\kio\\Anaconda3\\Lib\\site-packages\\sklearn\\metrics\\_classification.py:1471: UndefinedMetricWarning: Recall and F-score are ill-defined and being set to 0.0 in labels with no true samples. Use `zero_division` parameter to control this behavior.\n",
      "  _warn_prf(average, modifier, msg_start, len(result))\n",
      "c:\\Users\\kio\\Anaconda3\\Lib\\site-packages\\sklearn\\metrics\\_classification.py:1471: UndefinedMetricWarning: Precision and F-score are ill-defined and being set to 0.0 in labels with no predicted samples. Use `zero_division` parameter to control this behavior.\n",
      "  _warn_prf(average, modifier, msg_start, len(result))\n",
      "c:\\Users\\kio\\Anaconda3\\Lib\\site-packages\\sklearn\\metrics\\_classification.py:1471: UndefinedMetricWarning: Recall and F-score are ill-defined and being set to 0.0 in labels with no true samples. Use `zero_division` parameter to control this behavior.\n",
      "  _warn_prf(average, modifier, msg_start, len(result))\n",
      "100%|██████████| 40/40 [14:10<00:00, 21.27s/it]\n",
      " 10%|█         | 1/10 [00:06<01:02,  6.97s/it]"
     ]
    },
    {
     "name": "stdout",
     "output_type": "stream",
     "text": [
      "tensor([3, 0, 4, 4, 3, 4, 4, 0, 3, 5, 3, 5, 5, 1, 4, 5])\n"
     ]
    },
    {
     "name": "stderr",
     "output_type": "stream",
     "text": [
      " 20%|██        | 2/10 [00:13<00:55,  6.88s/it]"
     ]
    },
    {
     "name": "stdout",
     "output_type": "stream",
     "text": [
      "tensor([3, 0, 3, 3, 3, 3, 3, 5, 4, 0, 3, 2, 5, 3, 3, 0])\n"
     ]
    },
    {
     "name": "stderr",
     "output_type": "stream",
     "text": [
      " 30%|███       | 3/10 [00:20<00:47,  6.84s/it]"
     ]
    },
    {
     "name": "stdout",
     "output_type": "stream",
     "text": [
      "tensor([1, 4, 0, 3, 5, 2, 3, 3, 2, 5, 0, 4, 1, 5, 5, 4])\n"
     ]
    },
    {
     "name": "stderr",
     "output_type": "stream",
     "text": [
      " 40%|████      | 4/10 [00:27<00:40,  6.81s/it]"
     ]
    },
    {
     "name": "stdout",
     "output_type": "stream",
     "text": [
      "tensor([3, 3, 2, 2, 3, 1, 3, 3, 1, 5, 5, 1, 1, 1, 5, 2])\n"
     ]
    },
    {
     "name": "stderr",
     "output_type": "stream",
     "text": [
      " 50%|█████     | 5/10 [00:34<00:34,  6.83s/it]"
     ]
    },
    {
     "name": "stdout",
     "output_type": "stream",
     "text": [
      "tensor([3, 1, 3, 5, 4, 0, 5, 3, 2, 5, 5, 1, 5, 5, 1, 0])\n"
     ]
    },
    {
     "name": "stderr",
     "output_type": "stream",
     "text": [
      " 60%|██████    | 6/10 [00:41<00:27,  6.82s/it]"
     ]
    },
    {
     "name": "stdout",
     "output_type": "stream",
     "text": [
      "tensor([4, 5, 5, 3, 2, 2, 4, 3, 5, 3, 5, 1, 3, 2, 5, 0])\n"
     ]
    },
    {
     "name": "stderr",
     "output_type": "stream",
     "text": [
      " 70%|███████   | 7/10 [00:48<00:20,  6.89s/it]"
     ]
    },
    {
     "name": "stdout",
     "output_type": "stream",
     "text": [
      "tensor([1, 3, 1, 1, 5, 1, 0, 3, 1, 1, 4, 5, 1, 4, 3, 0])\n"
     ]
    },
    {
     "name": "stderr",
     "output_type": "stream",
     "text": [
      " 80%|████████  | 8/10 [00:54<00:13,  6.89s/it]"
     ]
    },
    {
     "name": "stdout",
     "output_type": "stream",
     "text": [
      "tensor([5, 3, 5, 4, 1, 3, 3, 5, 3, 5, 5, 0, 3, 5, 3, 5])\n"
     ]
    },
    {
     "name": "stderr",
     "output_type": "stream",
     "text": [
      " 90%|█████████ | 9/10 [01:02<00:07,  7.00s/it]"
     ]
    },
    {
     "name": "stdout",
     "output_type": "stream",
     "text": [
      "tensor([0, 5, 4, 5, 1, 3, 5, 3, 1, 3, 4, 3, 3, 2, 3, 3])\n"
     ]
    },
    {
     "name": "stderr",
     "output_type": "stream",
     "text": [
      "100%|██████████| 10/10 [01:08<00:00,  6.89s/it]"
     ]
    },
    {
     "name": "stdout",
     "output_type": "stream",
     "text": [
      "tensor([1, 4, 5, 0, 5, 4, 5, 5, 4, 4, 5, 1, 5, 0, 5, 0])\n",
      "              precision    recall  f1-score   support\n",
      "\n",
      "           0       1.00      1.00      1.00         3\n",
      "           1       1.00      1.00      1.00         2\n",
      "           3       0.00      0.00      0.00         2\n",
      "           4       0.75      1.00      0.86         3\n",
      "           5       0.86      1.00      0.92         6\n",
      "\n",
      "    accuracy                           0.88        16\n",
      "   macro avg       0.72      0.80      0.76        16\n",
      "weighted avg       0.77      0.88      0.82        16\n",
      "\n",
      "Epoch 3/3 - Train Loss: 1.1150 - Val Loss: 0.9928 - Val Accuracy: 73.75%\n"
     ]
    },
    {
     "name": "stderr",
     "output_type": "stream",
     "text": [
      "\n",
      "c:\\Users\\kio\\Anaconda3\\Lib\\site-packages\\sklearn\\metrics\\_classification.py:1471: UndefinedMetricWarning: Precision and F-score are ill-defined and being set to 0.0 in labels with no predicted samples. Use `zero_division` parameter to control this behavior.\n",
      "  _warn_prf(average, modifier, msg_start, len(result))\n",
      "c:\\Users\\kio\\Anaconda3\\Lib\\site-packages\\sklearn\\metrics\\_classification.py:1471: UndefinedMetricWarning: Precision and F-score are ill-defined and being set to 0.0 in labels with no predicted samples. Use `zero_division` parameter to control this behavior.\n",
      "  _warn_prf(average, modifier, msg_start, len(result))\n",
      "c:\\Users\\kio\\Anaconda3\\Lib\\site-packages\\sklearn\\metrics\\_classification.py:1471: UndefinedMetricWarning: Precision and F-score are ill-defined and being set to 0.0 in labels with no predicted samples. Use `zero_division` parameter to control this behavior.\n",
      "  _warn_prf(average, modifier, msg_start, len(result))\n"
     ]
    }
   ],
   "source": [
    "num_epochs = 3\n",
    "for epoch in range(num_epochs):\n",
    "    train_loss = train_epoch(model, train_loader, optimizer, criterion, device)\n",
    "    val_loss, val_accuracy = evaluate(model, val_loader, criterion, device)\n",
    "\n",
    "    print(f\"Epoch {epoch + 1}/{num_epochs} - Train Loss: {train_loss:.4f} - Val Loss: {val_loss:.4f} - Val Accuracy: {val_accuracy:.2%}\")\n",
    "    model.save_pretrained(f\"fine_tuned_bert_epoch_{epoch+1}_lr_{lr}\")\n",
    "\n",
    "# Save the fine-tuned model\n",
    "model.save_pretrained(f\"fine_tuned_bert\")"
   ]
  },
  {
   "cell_type": "code",
   "execution_count": 41,
   "metadata": {},
   "outputs": [
    {
     "data": {
      "text/plain": [
       "BertForSequenceClassification(\n",
       "  (bert): BertModel(\n",
       "    (embeddings): BertEmbeddings(\n",
       "      (word_embeddings): Embedding(30522, 768, padding_idx=0)\n",
       "      (position_embeddings): Embedding(512, 768)\n",
       "      (token_type_embeddings): Embedding(2, 768)\n",
       "      (LayerNorm): LayerNorm((768,), eps=1e-12, elementwise_affine=True)\n",
       "      (dropout): Dropout(p=0.1, inplace=False)\n",
       "    )\n",
       "    (encoder): BertEncoder(\n",
       "      (layer): ModuleList(\n",
       "        (0-11): 12 x BertLayer(\n",
       "          (attention): BertAttention(\n",
       "            (self): BertSelfAttention(\n",
       "              (query): Linear(in_features=768, out_features=768, bias=True)\n",
       "              (key): Linear(in_features=768, out_features=768, bias=True)\n",
       "              (value): Linear(in_features=768, out_features=768, bias=True)\n",
       "              (dropout): Dropout(p=0.1, inplace=False)\n",
       "            )\n",
       "            (output): BertSelfOutput(\n",
       "              (dense): Linear(in_features=768, out_features=768, bias=True)\n",
       "              (LayerNorm): LayerNorm((768,), eps=1e-12, elementwise_affine=True)\n",
       "              (dropout): Dropout(p=0.1, inplace=False)\n",
       "            )\n",
       "          )\n",
       "          (intermediate): BertIntermediate(\n",
       "            (dense): Linear(in_features=768, out_features=3072, bias=True)\n",
       "            (intermediate_act_fn): GELUActivation()\n",
       "          )\n",
       "          (output): BertOutput(\n",
       "            (dense): Linear(in_features=3072, out_features=768, bias=True)\n",
       "            (LayerNorm): LayerNorm((768,), eps=1e-12, elementwise_affine=True)\n",
       "            (dropout): Dropout(p=0.1, inplace=False)\n",
       "          )\n",
       "        )\n",
       "      )\n",
       "    )\n",
       "    (pooler): BertPooler(\n",
       "      (dense): Linear(in_features=768, out_features=768, bias=True)\n",
       "      (activation): Tanh()\n",
       "    )\n",
       "  )\n",
       "  (dropout): Dropout(p=0.1, inplace=False)\n",
       "  (classifier): Linear(in_features=768, out_features=6, bias=True)\n",
       ")"
      ]
     },
     "execution_count": 41,
     "metadata": {},
     "output_type": "execute_result"
    }
   ],
   "source": [
    "# To use the fine-tuned model for inference:\n",
    "loaded_model = BertForSequenceClassification.from_pretrained(f\"fine_tuned_bert\")\n",
    "loaded_model.to(device)"
   ]
  },
  {
   "cell_type": "code",
   "execution_count": 42,
   "metadata": {},
   "outputs": [
    {
     "name": "stderr",
     "output_type": "stream",
     "text": [
      "100%|██████████| 200/200 [02:21<00:00,  1.42it/s]\n"
     ]
    }
   ],
   "source": [
    "loaded_model.eval()\n",
    "\n",
    "all_preds = []\n",
    "\n",
    "with torch.no_grad():\n",
    "  for text in tqdm(test_text):\n",
    "      tokenized_sentence = tokenizer(text, truncation=True, padding='max_length', max_length=max_seq_length, return_tensors='pt')\n",
    "      input_ids = tokenized_sentence[\"input_ids\"].to(device)\n",
    "      attention_mask = tokenized_sentence[\"attention_mask\"].to(device)\n",
    "\n",
    "      outputs = loaded_model(input_ids, attention_mask=attention_mask)\n",
    "      logits = outputs.logits\n",
    "      predictions = torch.argmax(logits, dim=1)\n",
    "      all_preds.extend(predictions.cpu().numpy())"
   ]
  },
  {
   "cell_type": "code",
   "execution_count": 49,
   "metadata": {},
   "outputs": [
    {
     "name": "stdout",
     "output_type": "stream",
     "text": [
      "The accuracy of the fine-tuned BERT model is:  0.71\n"
     ]
    }
   ],
   "source": [
    "bert_accuracy = classification_report(test_labels_encoded, all_preds, output_dict=True, zero_division=0)['accuracy']\n",
    "print(\"The accuracy of the fine-tuned BERT model is: \", bert_accuracy)"
   ]
  }
 ],
 "metadata": {
  "kernelspec": {
   "display_name": "base",
   "language": "python",
   "name": "python3"
  },
  "language_info": {
   "codemirror_mode": {
    "name": "ipython",
    "version": 3
   },
   "file_extension": ".py",
   "mimetype": "text/x-python",
   "name": "python",
   "nbconvert_exporter": "python",
   "pygments_lexer": "ipython3",
   "version": "3.11.5"
  }
 },
 "nbformat": 4,
 "nbformat_minor": 2
}
