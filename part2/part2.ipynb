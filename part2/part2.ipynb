{
 "cells": [
  {
   "cell_type": "code",
   "execution_count": 1,
   "metadata": {},
   "outputs": [],
   "source": [
    "import numpy as np\n",
    "import pandas as pd\n",
    "from sklearn.metrics import classification_report\n",
    "from sklearn.preprocessing import LabelEncoder\n",
    "from sklearn.model_selection import train_test_split\n",
    "from npc_gzip.compressors.base import BaseCompressor\n",
    "from npc_gzip.compressors.gzip_compressor import GZipCompressor\n",
    "from npc_gzip.knn_classifier import KnnClassifier\n",
    "\n",
    "# Define distance metrics\n",
    "distance_metrics = [\"euclidean\", \"manhattan\", \"cosine\", \"ncd\"]\n"
   ]
  },
  {
   "cell_type": "code",
   "execution_count": 2,
   "metadata": {},
   "outputs": [],
   "source": [
    "def pass_data():\n",
    "    df = pd.read_csv(\"train_40k.csv\", encoding=\"latin-1\")\n",
    "    df[\"text\"] = df[\"Text\"]\n",
    "    df[\"label\"] = df[\"Cat1\"]\n",
    "    return df\n",
    "\n",
    "\n",
    "def get_data(test_size=0.2):\n",
    "    df = pass_data()\n",
    "    X_train, X_test, y_train, y_test = train_test_split(\n",
    "        df[\"text\"], df[\"label\"], test_size=test_size, random_state=42\n",
    "    )\n",
    "    label_encoder = LabelEncoder()\n",
    "    train_text = X_train.to_numpy()\n",
    "    train_labels = label_encoder.fit_transform(y_train.to_numpy())\n",
    "    test_text = X_test.to_numpy()\n",
    "    test_labels = label_encoder.fit_transform(y_test.to_numpy())\n",
    "    return (train_text, train_labels), (test_text, test_labels)\n",
    "\n",
    "\n",
    "(train_text, train_labels), (test_text, test_labels) = get_data()\n"
   ]
  },
  {
   "cell_type": "code",
   "execution_count": 3,
   "metadata": {},
   "outputs": [],
   "source": [
    "def pass_data():\n",
    "    df = pd.read_csv(\"train_40k.csv\", encoding=\"latin-1\")\n",
    "    df[\"text\"] = df[\"Text\"]\n",
    "    df[\"label\"] = df[\"Cat1\"]\n",
    "    return df\n",
    "\n",
    "\n",
    "def get_data(test_size=0.2):\n",
    "    df = pass_data()\n",
    "    X_train, X_test, y_train, y_test = train_test_split(\n",
    "        df[\"text\"], df[\"label\"], test_size=test_size, random_state=42\n",
    "    )\n",
    "    label_encoder = LabelEncoder()\n",
    "    train_text = X_train.to_numpy()\n",
    "    train_labels = label_encoder.fit_transform(y_train.to_numpy())\n",
    "    test_text = X_test.to_numpy()\n",
    "    test_labels = label_encoder.fit_transform(y_test.to_numpy())\n",
    "    return (train_text, train_labels), (test_text, test_labels)\n",
    "\n",
    "\n",
    "(train_text, train_labels), (test_text, test_labels) = get_data()\n"
   ]
  },
  {
   "cell_type": "code",
   "execution_count": null,
   "metadata": {},
   "outputs": [],
   "source": [
    "def pass_data():\n",
    "    df = pd.read_csv(\"train_40k.csv\", encoding=\"latin-1\")\n",
    "    df[\"text\"] = df[\"Text\"]\n",
    "    df[\"label\"] = df[\"Cat1\"]\n",
    "    return df\n",
    "\n",
    "\n",
    "def get_data(test_size=0.2):\n",
    "    df = pass_data()\n",
    "    X_train, X_test, y_train, y_test = train_test_split(\n",
    "        df[\"text\"], df[\"label\"], test_size=test_size, random_state=42\n",
    "    )\n",
    "    label_encoder = LabelEncoder()\n",
    "    train_text = X_train.to_numpy()\n",
    "    train_labels = label_encoder.fit_transform(y_train.to_numpy())\n",
    "    test_text = X_test.to_numpy()\n",
    "    test_labels = label_encoder.fit_transform(y_test.to_numpy())\n",
    "    return (train_text, train_labels), (test_text, test_labels)\n",
    "\n",
    "\n",
    "(train_text, train_labels), (test_text, test_labels) = get_data()\n"
   ]
  }
 ],
 "metadata": {
  "kernelspec": {
   "display_name": "base",
   "language": "python",
   "name": "python3"
  },
  "language_info": {
   "codemirror_mode": {
    "name": "ipython",
    "version": 3
   },
   "file_extension": ".py",
   "mimetype": "text/x-python",
   "name": "python",
   "nbconvert_exporter": "python",
   "pygments_lexer": "ipython3",
   "version": "3.11.4"
  }
 },
 "nbformat": 4,
 "nbformat_minor": 2
}
